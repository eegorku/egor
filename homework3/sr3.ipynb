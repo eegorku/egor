{
 "cells": [
  {
   "cell_type": "code",
   "execution_count": 1,
   "id": "179e724e",
   "metadata": {},
   "outputs": [
    {
     "name": "stdout",
     "output_type": "stream",
     "text": [
      "56\n"
     ]
    }
   ],
   "source": [
    "\"Допишите функцию, которая принимает массив из 10 чисел и возвращает их сумму.\"\n",
    "n = [1, 2, 3, 4, 5, 6, 7, 8, 9, 11]\n",
    "def massivesum(n: list) -> float:\n",
    "    h = len(n)\n",
    "    if h != 10:\n",
    "        print('Кол элементов не равно 10')\n",
    "        return\n",
    "    sum = 0\n",
    "    for i in range(0, h):\n",
    "        sum += n[i]\n",
    "    else:\n",
    "        print(sum)\n",
    "massivesum(n)"
   ]
  },
  {
   "cell_type": "code",
   "execution_count": 2,
   "id": "b6a300d8",
   "metadata": {},
   "outputs": [
    {
     "data": {
      "text/plain": [
       "3"
      ]
     },
     "execution_count": 2,
     "metadata": {},
     "output_type": "execute_result"
    }
   ],
   "source": [
    "\"Допишите функцию, которая принимает массив чисел и возвращает количество чисел равных нулю.\"\n",
    "a = [0,0,2,3,4,1,0,]\n",
    "def cd(a) -> float:\n",
    "    n = 0\n",
    "    for i in a:\n",
    "        if i == 0:\n",
    "            n += 1\n",
    "    return n\n",
    "\n",
    "cd(a)"
   ]
  },
  {
   "cell_type": "code",
   "execution_count": 3,
   "id": "c5ae8046",
   "metadata": {},
   "outputs": [
    {
     "name": "stdout",
     "output_type": "stream",
     "text": [
      "1\n",
      "12\n",
      "123\n",
      "1234\n",
      "12345\n",
      "123456\n",
      "1234567\n"
     ]
    }
   ],
   "source": [
    "\"Напишите программу, в которой задается натуральное число n и выводится лестница из n ступенек, i-я ступенька должна состоять из чисел от 1 до i без пробелов.\"\n",
    "def les(i:int) -> int:\n",
    "    for b in range (1,i+1):\n",
    "        for a in range (1,b+1):\n",
    "            print (a,end = '')\n",
    "        else:\n",
    "            print('')\n",
    "les(7)"
   ]
  },
  {
   "cell_type": "code",
   "execution_count": 11,
   "id": "241ac753",
   "metadata": {},
   "outputs": [
    {
     "name": "stdout",
     "output_type": "stream",
     "text": [
      "  11\n",
      " 1221\n",
      "123321\n"
     ]
    }
   ],
   "source": [
    "\"Напишите программу, в которой задается натуральное число n и выводится пирамида из n ступенек, i-я ступень должна состоять из чисел от 1 до i и обратно без пробелов.\"\n",
    "def pir(i:int) -> int:\n",
    "    for c in range (1,i+1):\n",
    "        print (' '*(i-c), end = '')\n",
    "        for a in range (1,c+1):\n",
    "            print (a,end = '')\n",
    "        for a in range (c,0,-1):\n",
    "            print (a,end = '')\n",
    "        else:\n",
    "            print('')\n",
    "pir(3)"
   ]
  },
  {
   "cell_type": "code",
   "execution_count": 10,
   "id": "4dd5eebb",
   "metadata": {},
   "outputs": [
    {
     "name": "stdout",
     "output_type": "stream",
     "text": [
      "          11\n",
      "         1221\n",
      "        123321\n",
      "       12344321\n",
      "      1234554321\n",
      "     123456654321\n",
      "    12345677654321\n",
      "   1234567887654321\n",
      "  123456789987654321\n",
      " 1234567891010987654321\n",
      "  123456789987654321\n",
      "   1234567887654321\n",
      "    12345677654321\n",
      "     123456654321\n",
      "      1234554321\n",
      "       12344321\n",
      "        123321\n",
      "         1221\n",
      "          11\n"
     ]
    }
   ],
   "source": [
    "\"Напишите программу, в которой задается натуральное число n и выводится ромб из n*2-1 ступенек, i-я ступень должна состоять из чисел от 1 до i и обратно без пробелов.\"\n",
    "def rombik (i:int) -> int:\n",
    "    for b in range (1,i ):\n",
    "        print (' '*(i-b+1), end = '')\n",
    "        for a in range (1,b+1):\n",
    "            print (a,end = '')\n",
    "        for a in range (b,0,-1):\n",
    "            print (a,end = '')\n",
    "        else:\n",
    "            print('')\n",
    "    for b in range (i,0,-1):\n",
    "        print (' '*(i-b+1), end = '')\n",
    "        for a in range (1,b+1):\n",
    "            print (a,end = '')\n",
    "        for a in range (b,0,-1):\n",
    "            print (a,end = '')\n",
    "        else:\n",
    "            print('')\n",
    "rombik(10)"
   ]
  },
  {
   "cell_type": "code",
   "execution_count": null,
   "id": "9ce6666e",
   "metadata": {},
   "outputs": [],
   "source": []
  }
 ],
 "metadata": {
  "kernelspec": {
   "display_name": "Python 3",
   "language": "python",
   "name": "python3"
  },
  "language_info": {
   "codemirror_mode": {
    "name": "ipython",
    "version": 3
   },
   "file_extension": ".py",
   "mimetype": "text/x-python",
   "name": "python",
   "nbconvert_exporter": "python",
   "pygments_lexer": "ipython3",
   "version": "3.8.8"
  }
 },
 "nbformat": 4,
 "nbformat_minor": 5
}
