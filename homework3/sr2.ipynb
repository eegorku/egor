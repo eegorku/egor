{
 "cells": [
  {
   "cell_type": "code",
   "execution_count": null,
   "id": "2f8ba237",
   "metadata": {},
   "outputs": [
    {
     "name": "stdout",
     "output_type": "stream",
     "text": [
      "Конец\n",
      "Первое число: 1\n",
      "Второе число: 2\n",
      "Наименьшее:  1\n",
      "Конец\n",
      "Первое число: 2\n",
      "Второе число: 2\n",
      "Они равны!\n",
      "Конец\n"
     ]
    }
   ],
   "source": [
    "\"Допишите функцию, которая принимает 2 числа, сравнивает между собой и возвращает наименьшее.\"\n",
    "def minim():\n",
    "    a = True\n",
    "    while a:\n",
    "        print('Конец')\n",
    "        num1 = input('Первое число: ')\n",
    "\n",
    "        if num1 == 'Конец':\n",
    "            break\n",
    "\n",
    "        num2 = input('Второе число: ')\n",
    "\n",
    "        if num1 == num2:\n",
    "            print('Они равны!')\n",
    "        elif num1 > num2:\n",
    "            print('Наименьшее: ', num2)\n",
    "        else:\n",
    "            print('Наименьшее: ', num1)\n",
    "minim()"
   ]
  },
  {
   "cell_type": "code",
   "execution_count": null,
   "id": "d02ee450",
   "metadata": {},
   "outputs": [
    {
     "name": "stdout",
     "output_type": "stream",
     "text": [
      "Конец\n",
      "Первое число: 2\n",
      "Второе число: 3\n",
      "Третье число: 2\n",
      "Наименьшее:  2\n",
      "Конец\n",
      "Первое число: 2\n",
      "Второе число: 2\n",
      "Третье число: 2\n",
      "Они равны!\n",
      "Конец\n",
      "Первое число: 2\n",
      "Второе число: 3\n",
      "Третье число: 2\n",
      "Наименьшее:  2\n",
      "Конец\n"
     ]
    }
   ],
   "source": [
    "\"Допишите функцию, которая принимает 3 числа, сравнивает между собой и возвращает наименьшее.\"\n",
    "def minim():\n",
    "    a= True\n",
    "    while a:\n",
    "        print('Конец')\n",
    "        num1 = input('Первое число: ')\n",
    "        if num1 == 'Конец':\n",
    "            break\n",
    "        num2 = input('Второе число: ')\n",
    "        num3 = input('Третье число: ')\n",
    "        if num1 == num2 == num3:\n",
    "            print('Они равны!')\n",
    "        elif num1 < num2 and num1 < num3:\n",
    "            print('Наименьшее: ', num1)\n",
    "        elif num2 < num1 and num2 < num3:\n",
    "            print('Наименьшее: ', num2)\n",
    "        else:\n",
    "            print('Наименьшее: ', num3)\n",
    "\n",
    "\n",
    "minim()\n"
   ]
  },
  {
   "cell_type": "code",
   "execution_count": null,
   "id": "65190193",
   "metadata": {},
   "outputs": [
    {
     "name": "stdout",
     "output_type": "stream",
     "text": [
      "Конец\n",
      "Первое число: 2\n",
      "Второе число: 2\n",
      "Третье число: 2\n",
      "3\n",
      "Конец\n"
     ]
    }
   ],
   "source": [
    "\"Допишите функцию, которая принимает 3 числа, сравнивает между собой и возвращает количество совпадающих чисел. Соответственно, программа может возвращать одно из трех чисел: 3 - если совпадают все, 2 - если совпадают 2 числа, 0 - если все числа различны.\"\n",
    "def minim():\n",
    "    a = True\n",
    "    while a:\n",
    "        print('Конец')\n",
    "        num1 = input('Первое число: ')\n",
    "        num2 = input('Второе число: ')\n",
    "        num3 = input('Третье число: ')\n",
    "        if num1 == 'Конец':\n",
    "            break\n",
    "        if num1 == num2 == num3:\n",
    "            print('3')\n",
    "        elif num1 == num2 or num2 == num3:\n",
    "            print('2')\n",
    "        else:\n",
    "            print('0')\n",
    "minim()"
   ]
  },
  {
   "cell_type": "code",
   "execution_count": null,
   "id": "2c4a5f20",
   "metadata": {},
   "outputs": [],
   "source": []
  }
 ],
 "metadata": {
  "kernelspec": {
   "display_name": "Python 3",
   "language": "python",
   "name": "python3"
  },
  "language_info": {
   "codemirror_mode": {
    "name": "ipython",
    "version": 3
   },
   "file_extension": ".py",
   "mimetype": "text/x-python",
   "name": "python",
   "nbconvert_exporter": "python",
   "pygments_lexer": "ipython3",
   "version": "3.8.8"
  }
 },
 "nbformat": 4,
 "nbformat_minor": 5
}
