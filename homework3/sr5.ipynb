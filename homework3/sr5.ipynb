{
 "cells": [
  {
   "cell_type": "code",
   "execution_count": null,
   "id": "7cef9a80",
   "metadata": {},
   "outputs": [],
   "source": [
    "\"Допишите функцию, которая принимает список, выбирает из него все элементы с четным индексом и возвращает их в виде списка.\"\n",
    "a = input('Введите элементы').split()\n",
    "def chet(a: list) -> list:\n",
    "    z = []\n",
    "    for i in range(0, len(a), 2):\n",
    "        z.append(a[i])\n",
    "    else:\n",
    "        print(z)\n",
    "chet(a)"
   ]
  },
  {
   "cell_type": "code",
   "execution_count": 1,
   "id": "d2a59e06",
   "metadata": {},
   "outputs": [
    {
     "name": "stdout",
     "output_type": "stream",
     "text": [
      "Введите элементы списка через пробел: 11 22 33 44\n",
      "[22, 33, 44]\n"
     ]
    }
   ],
   "source": [
    "\"Допишите функцию, которая принимает список, выбирает из него все элементы, которые больше предыдущего и возвращает их в виде списка.\"\n",
    "a = [int(i) for i in input('Введите элементы: ').split()]\n",
    "def bolshe_1(a: list) -> list:\n",
    "    z = []\n",
    "    for i in range(1, len(a)):\n",
    "        if a[i] > a[i - 1]:\n",
    "            z.append(a[i])\n",
    "    else:\n",
    "        print(z)\n",
    "bolshe_1(a)"
   ]
  },
  {
   "cell_type": "code",
   "execution_count": null,
   "id": "502cf14a",
   "metadata": {},
   "outputs": [],
   "source": [
    "\"Допишите функцию, которая принимает список, меняет местами наибольший и наименьший элементы и возвращает этот список.\"\n",
    "a = [int(i) for i in input('Введите элементы: ').split()]\n",
    "def mini(arr: list) -> int:\n",
    "    min_i = a.index(max(a))\n",
    "    max_i = a.index(min(a))\n",
    "    arr[max_i], arr[min_i] = arr[min_i], arr[max_i]\n",
    "    print(arr)\n",
    "mini(a)"
   ]
  }
 ],
 "metadata": {
  "kernelspec": {
   "display_name": "Python 3",
   "language": "python",
   "name": "python3"
  },
  "language_info": {
   "codemirror_mode": {
    "name": "ipython",
    "version": 3
   },
   "file_extension": ".py",
   "mimetype": "text/x-python",
   "name": "python",
   "nbconvert_exporter": "python",
   "pygments_lexer": "ipython3",
   "version": "3.8.8"
  }
 },
 "nbformat": 4,
 "nbformat_minor": 5
}
