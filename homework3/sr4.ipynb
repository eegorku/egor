{
 "cells": [
  {
   "cell_type": "code",
   "execution_count": 1,
   "id": "b9bfde46",
   "metadata": {},
   "outputs": [
    {
     "name": "stdout",
     "output_type": "stream",
     "text": [
      "m\n"
     ]
    }
   ],
   "source": [
    "\"Вывести третий символ этой строки.\"\n",
    "row = \"Lambdadambda\"\n",
    "print(row[2])"
   ]
  },
  {
   "cell_type": "code",
   "execution_count": 2,
   "id": "b9de0bd6",
   "metadata": {},
   "outputs": [
    {
     "name": "stdout",
     "output_type": "stream",
     "text": [
      "Lambdadamb\n"
     ]
    }
   ],
   "source": [
    "\"Вывести предпоследний символ этой строки.\"\n",
    "row = \"Lambdadambda\"\n",
    "print(row[:-2:])"
   ]
  },
  {
   "cell_type": "code",
   "execution_count": 3,
   "id": "58e623f9",
   "metadata": {},
   "outputs": [
    {
     "name": "stdout",
     "output_type": "stream",
     "text": [
      "Lambd\n"
     ]
    }
   ],
   "source": [
    "\"Вывести первые пять символов этой строки.\"\n",
    "row = \"Lambdadambda\"\n",
    "print(row[:5:])"
   ]
  },
  {
   "cell_type": "code",
   "execution_count": 4,
   "id": "0ab58060",
   "metadata": {},
   "outputs": [
    {
     "name": "stdout",
     "output_type": "stream",
     "text": [
      "Lambdadamb\n"
     ]
    }
   ],
   "source": [
    "\"Вывести строку, кроме последних двух символов.\"\n",
    "print(row[:-2:])"
   ]
  },
  {
   "cell_type": "code",
   "execution_count": 5,
   "id": "00e76b10",
   "metadata": {},
   "outputs": [
    {
     "name": "stdout",
     "output_type": "stream",
     "text": [
      "Lmddmd\n"
     ]
    }
   ],
   "source": [
    "\"Вывести все символы с четными индексами (считайте, что 0 - четный индекс).\"\n",
    "print(row[::2])\n"
   ]
  },
  {
   "cell_type": "code",
   "execution_count": 6,
   "id": "8ad2212d",
   "metadata": {},
   "outputs": [
    {
     "name": "stdout",
     "output_type": "stream",
     "text": [
      "abaaba\n"
     ]
    }
   ],
   "source": [
    "\"Вывести все символы с нечетными индексами.\"\n",
    "print(row[1::2])"
   ]
  },
  {
   "cell_type": "code",
   "execution_count": 7,
   "id": "2a3a7c4c",
   "metadata": {},
   "outputs": [
    {
     "name": "stdout",
     "output_type": "stream",
     "text": [
      "adbmadadbmaL\n"
     ]
    }
   ],
   "source": [
    "\"Вывести все символы в обратном порядке.\"\n",
    "print(row[::-1])"
   ]
  },
  {
   "cell_type": "code",
   "execution_count": 8,
   "id": "523c9595",
   "metadata": {},
   "outputs": [
    {
     "name": "stdout",
     "output_type": "stream",
     "text": [
      "abaaba\n"
     ]
    }
   ],
   "source": [
    "\"Вывести все символы строки через один в обратном порядке, начиная с последнего.\"\n",
    "print(row[::-2])"
   ]
  },
  {
   "cell_type": "code",
   "execution_count": 9,
   "id": "68310237",
   "metadata": {},
   "outputs": [
    {
     "name": "stdout",
     "output_type": "stream",
     "text": [
      "12\n"
     ]
    }
   ],
   "source": [
    "\"Вывести длину данной строки.\"\n",
    "print(len(row))"
   ]
  },
  {
   "cell_type": "code",
   "execution_count": null,
   "id": "a92f8a3b",
   "metadata": {},
   "outputs": [],
   "source": []
  }
 ],
 "metadata": {
  "kernelspec": {
   "display_name": "Python 3",
   "language": "python",
   "name": "python3"
  },
  "language_info": {
   "codemirror_mode": {
    "name": "ipython",
    "version": 3
   },
   "file_extension": ".py",
   "mimetype": "text/x-python",
   "name": "python",
   "nbconvert_exporter": "python",
   "pygments_lexer": "ipython3",
   "version": "3.8.8"
  }
 },
 "nbformat": 4,
 "nbformat_minor": 5
}
