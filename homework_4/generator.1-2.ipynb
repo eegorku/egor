{
 "cells": [
  {
   "cell_type": "code",
   "execution_count": 5,
   "id": "c446f692",
   "metadata": {},
   "outputs": [
    {
     "name": "stdout",
     "output_type": "stream",
     "text": [
      "[(0, 'MAI'), (1, 'Lambda'), (2, 'Python')]\n",
      "[(0, 'H'), (1, 'e'), (2, 'l'), (3, 'l'), (4, 'o'), (5, ' '), (6, 'M'), (7, 'A'), (8, 'I'), (9, '!')]\n"
     ]
    }
   ],
   "source": [
    "def own_enumerate(arr):\n",
    "    num = 0\n",
    "    for i in arr:\n",
    "        a = (num, i)\n",
    "        yield a\n",
    "        num += 1\n",
    "        \n",
    "        \n",
    "print(list(own_enumerate(['MAI', 'Lambda', 'Python'])))\n",
    "print(list(own_enumerate('Hello MAI!')))"
   ]
  },
  {
   "cell_type": "code",
   "execution_count": 8,
   "id": "3be18039",
   "metadata": {},
   "outputs": [
    {
     "name": "stdout",
     "output_type": "stream",
     "text": [
      "[('M', 'L'), ('A', 'a'), ('I', 'm')]\n",
      "[('H', 5), ('e', 1), ('l', 0), ('l', 5)]\n"
     ]
    }
   ],
   "source": [
    "def own_zip(a, b):\n",
    "    if len(a) > len(b):\n",
    "        length = len(b)\n",
    "    else:\n",
    "        length = len(a)\n",
    "    for i in range(0, length):\n",
    "        c = (a[i], b[i])\n",
    "        yield c\n",
    "\n",
    "print(list(own_zip('MAI', 'Lambda')))\n",
    "print(list(own_zip('Hello', [5, 1, 0, 5])))"
   ]
  },
  {
   "cell_type": "code",
   "execution_count": null,
   "id": "562b2831",
   "metadata": {},
   "outputs": [],
   "source": []
  }
 ],
 "metadata": {
  "kernelspec": {
   "display_name": "Python 3",
   "language": "python",
   "name": "python3"
  },
  "language_info": {
   "codemirror_mode": {
    "name": "ipython",
    "version": 3
   },
   "file_extension": ".py",
   "mimetype": "text/x-python",
   "name": "python",
   "nbconvert_exporter": "python",
   "pygments_lexer": "ipython3",
   "version": "3.8.8"
  }
 },
 "nbformat": 4,
 "nbformat_minor": 5
}
