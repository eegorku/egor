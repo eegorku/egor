{
 "cells": [
  {
   "cell_type": "code",
   "execution_count": 2,
   "id": "18773359",
   "metadata": {},
   "outputs": [
    {
     "name": "stdout",
     "output_type": "stream",
     "text": [
      "cap\n",
      "22\n"
     ]
    }
   ],
   "source": [
    "# Допишите функцию, которая принимает несколько параметров. Первый параметр - словарь, второй параметр - один из ключей данного словаря. Функция должна выводить значение этого ключа.\n",
    "def my_shop(dir, key):\n",
    "    print(dir.get(key))\n",
    "dir = {\n",
    "    'sneakers': 1,\n",
    "    'short': 2,\n",
    "    'cap': 22,\n",
    "    'underpants': 3,\n",
    "}\n",
    "\n",
    "key = str(input())\n",
    "my_shop(dir, key)"
   ]
  }
 ],
 "metadata": {
  "kernelspec": {
   "display_name": "Python 3",
   "language": "python",
   "name": "python3"
  },
  "language_info": {
   "codemirror_mode": {
    "name": "ipython",
    "version": 3
   },
   "file_extension": ".py",
   "mimetype": "text/x-python",
   "name": "python",
   "nbconvert_exporter": "python",
   "pygments_lexer": "ipython3",
   "version": "3.8.8"
  }
 },
 "nbformat": 4,
 "nbformat_minor": 5
}
