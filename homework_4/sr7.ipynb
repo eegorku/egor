{
 "cells": [
  {
   "cell_type": "code",
   "execution_count": 1,
   "id": "1724cda5",
   "metadata": {},
   "outputs": [
    {
     "name": "stdout",
     "output_type": "stream",
     "text": [
      "10\n"
     ]
    }
   ],
   "source": [
    "#Допишите функцию, которая принимает список чисел и, с помощью множеств, определяет количество различных чисел внутри списка.\n",
    "def func(list):\n",
    "    set_ = set(list)\n",
    "    print(len(set_1))\n",
    "list = [1,2,3,4,5,6,7,8,9,0,]\n",
    "func(list)"
   ]
  },
  {
   "cell_type": "code",
   "execution_count": 3,
   "id": "a24ffb66",
   "metadata": {},
   "outputs": [
    {
     "name": "stdout",
     "output_type": "stream",
     "text": [
      "3\n"
     ]
    }
   ],
   "source": [
    "#Допишите функцию, которая принимает несколько списков чисел и, с помощью множеств, определяет количество общих чисел из первого и второго списка.\n",
    "def func(list_a, list_b):\n",
    "    set_a, set_b = set(list_a), set(list_b)\n",
    "    total = set_a & set_b\n",
    "    print(len(total))\n",
    "list_a = [1,1,1,2,2,32,4,45]\n",
    "list_b = [1,2,3,4,5,6,7,8,9,0]\n",
    "func(list_a, list_b)"
   ]
  },
  {
   "cell_type": "code",
   "execution_count": null,
   "id": "f7f67706",
   "metadata": {},
   "outputs": [],
   "source": []
  }
 ],
 "metadata": {
  "kernelspec": {
   "display_name": "Python 3",
   "language": "python",
   "name": "python3"
  },
  "language_info": {
   "codemirror_mode": {
    "name": "ipython",
    "version": 3
   },
   "file_extension": ".py",
   "mimetype": "text/x-python",
   "name": "python",
   "nbconvert_exporter": "python",
   "pygments_lexer": "ipython3",
   "version": "3.8.8"
  }
 },
 "nbformat": 4,
 "nbformat_minor": 5
}
